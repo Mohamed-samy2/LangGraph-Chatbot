{
 "cells": [
  {
   "cell_type": "code",
   "execution_count": 2,
   "metadata": {},
   "outputs": [
    {
     "name": "stderr",
     "output_type": "stream",
     "text": [
      "/home/mohamed_samy/anaconda3/envs/slash/lib/python3.12/site-packages/tqdm/auto.py:21: TqdmWarning: IProgress not found. Please update jupyter and ipywidgets. See https://ipywidgets.readthedocs.io/en/stable/user_install.html\n",
      "  from .autonotebook import tqdm as notebook_tqdm\n"
     ]
    }
   ],
   "source": [
    "from langchain_google_genai import ChatGoogleGenerativeAI\n",
    "from langchain_core.prompts import ChatPromptTemplate\n",
    "from langgraph.types import Command\n",
    "from typing import  Annotated,Literal\n",
    "from typing_extensions import TypedDict\n",
    "from langgraph.graph import StateGraph,MessagesState,START,END\n",
    "from pydantic import BaseModel, Field\n",
    "llm = ChatGoogleGenerativeAI(\n",
    "            model=\"gemini-1.5-flash\",\n",
    "            temperature=0,\n",
    "            max_tokens=500,\n",
    "            api_key='',\n",
    "            max_retries=2,\n",
    "            )\n"
   ]
  },
  {
   "cell_type": "code",
   "execution_count": 285,
   "metadata": {},
   "outputs": [],
   "source": [
    "members = [\"Categories\", \"FAQ\",'Unknown']\n",
    "# Our team supervisor is an LLM node. It just picks the next agent to process\n",
    "# and decides when the work is completed\n",
    "options = members + [\"FINISH\"]"
   ]
  },
  {
   "cell_type": "code",
   "execution_count": 286,
   "metadata": {},
   "outputs": [],
   "source": [
    "system_prompt = (\n",
    "    \"You are a supervisor tasked with managing a conversation between the\"\n",
    "    f\" following workers: {members}. Given the following user request,\"\n",
    "    \" respond with the worker to act next. Each worker will perform a\"\n",
    "    \" task and respond with their results and status. When finished,\"\n",
    "    \" respond with FINISH.\"\n",
    ")"
   ]
  },
  {
   "cell_type": "code",
   "execution_count": 287,
   "metadata": {},
   "outputs": [],
   "source": [
    "class Router(BaseModel):\n",
    "    \"\"\"Worker to route to next. If no workers needed, route to FINISH.\"\"\"\n",
    "    next: Literal[*options]"
   ]
  },
  {
   "cell_type": "code",
   "execution_count": 288,
   "metadata": {},
   "outputs": [],
   "source": [
    "messages = [\n",
    "        {\"role\": \"system\", \"content\": system_prompt},\n",
    "    ] + [{\"role\":'user','content':\"what is the return policy ?\"}]\n",
    "\n",
    "response = llm.with_structured_output(Router).invoke(messages)"
   ]
  },
  {
   "cell_type": "code",
   "execution_count": 289,
   "metadata": {},
   "outputs": [
    {
     "data": {
      "text/plain": [
       "'FAQ'"
      ]
     },
     "execution_count": 289,
     "metadata": {},
     "output_type": "execute_result"
    }
   ],
   "source": [
    "response.next"
   ]
  },
  {
   "cell_type": "code",
   "execution_count": 4,
   "metadata": {},
   "outputs": [],
   "source": [
    "class user_intent(BaseModel):\n",
    "    \"\"\"Identify the user intent\"\"\"\n",
    "    \n",
    "    faq:str=Field(\n",
    "        description=\"if the user asked about the faq like the website policy or return days , 'yes' or 'no' \"\n",
    "    )\n",
    "    category:str=Field(\n",
    "        description=\"if the user asked about categories like clothes , 'yes' or 'no' \"\n",
    "    )\n",
    "    unknown:str=Field(\n",
    "        description=\" if the user didn't ask about any thing or you don't know his intent or what he want, 'yes' or 'no' \"\n",
    "    )\n"
   ]
  },
  {
   "cell_type": "code",
   "execution_count": 5,
   "metadata": {},
   "outputs": [],
   "source": [
    "structured_llm_grader = llm.with_structured_output(user_intent)"
   ]
  },
  {
   "cell_type": "code",
   "execution_count": 15,
   "metadata": {},
   "outputs": [],
   "source": [
    "system = \"\"\"You are a shop customer service that want to identify the user intent \\n\n",
    "    check if the user asking about faq like website policy or return days \\n\n",
    "    or if he ask about category like clothes  \\n\n",
    "    or if he said an unknown something or general question\\n\n",
    "    Provide a binary score 'yes' or 'no' to indicate the user intent\"\"\"\n",
    "grade_prompt = ChatPromptTemplate.from_messages(\n",
    "    [(\"system\", system), (\"human\", \"question:\\n\\n {question}\")]\n",
    ")\n",
    "evaluator = grade_prompt | structured_llm_grader\n",
    "result = evaluator.invoke(\n",
    "    {\"what is the weather today ? \"}\n",
    ")"
   ]
  },
  {
   "cell_type": "code",
   "execution_count": 16,
   "metadata": {},
   "outputs": [
    {
     "data": {
      "text/plain": [
       "user_intent(faq='no', category='no', unknown='yes')"
      ]
     },
     "execution_count": 16,
     "metadata": {},
     "output_type": "execute_result"
    }
   ],
   "source": [
    "result"
   ]
  },
  {
   "cell_type": "code",
   "execution_count": null,
   "metadata": {},
   "outputs": [],
   "source": []
  },
  {
   "cell_type": "code",
   "execution_count": 255,
   "metadata": {},
   "outputs": [],
   "source": [
    "class AgentState(TypedDict):\n",
    "    messages: Annotated[list, add_messages]\n",
    "    categories:Annotated[list,add_messages]\n",
    "\n",
    "members = [\"category_agent\", \"faq_agent\",'unk_agent']\n",
    "# Our team supervisor is an LLM node. It just picks the next agent to process\n",
    "# and decides when the work is completed\n",
    "options = members + [\"FINISH\"]\n",
    "\n",
    "\n",
    "class Router(TypedDict):\n",
    "    \"\"\"Worker to route to next. If no workers needed, route to FINISH.\"\"\"\n",
    "    next: Literal[*options]\n",
    "    \n",
    "    \n",
    "class MainAgent():\n",
    "    def __init__(self,memory,llm):\n",
    "        super(MainAgent).__init__()\n",
    "        self.llm=llm\n",
    "        workflow = StateGraph(AgentState)\n",
    "        \n",
    "        workflow.add_node(\"greeting\",self.greeting)\n",
    "        \n",
    "        workflow.add_node(\"supervisor\",self.supervisor_node)\n",
    "        \n",
    "        workflow.add_node(\"category_agent\",self.clothes)\n",
    "        workflow.add_node(\"faq_agent\",self.faq)\n",
    "        workflow.add_node(\"unk_agent\",self.unknown)\n",
    "        \n",
    "        workflow.add_edge(START,'greeting')\n",
    "        workflow.add_edge('greeting','supervisor')\n",
    "        \n",
    "        self.graph = workflow.compile(\n",
    "            interrupt_after=['greeting','supervisor'],\n",
    "            checkpointer=memory\n",
    "            )\n",
    "        \n",
    "    def greeting(self,state:AgentState):\n",
    "        return {\"messages\": \"Hello how can i help you today ?\"}\n",
    "    \n",
    "    def supervisor_node(self,state: AgentState) -> Command[Literal[*members, \"__end__\"]]:\n",
    "        \n",
    "        system_prompt = (\n",
    "            \"You are a supervisor tasked with managing a conversation between the\"\n",
    "            f\" following workers: {members}. Given the following user request,\"\n",
    "            \" respond with the worker to act next. Each worker will perform a\"\n",
    "            \" task and respond with their results and status. When finished,\"\n",
    "            \" respond with FINISH.\"\n",
    "        )\n",
    "        messages = [\n",
    "            {\"role\": \"system\", \"content\": system_prompt},\n",
    "        ] + state[\"messages\"]\n",
    "        response = self.llm.with_structured_output(Router).invoke(messages)\n",
    "        goto = response.next\n",
    "        if goto == \"FINISH\":\n",
    "            goto = END\n",
    "\n",
    "        return Command(goto=goto)\n",
    "        \n",
    "    def unknown(self,state:AgentState)-> Command[Literal[\"supervisor\"]]:\n",
    "        return Command(\n",
    "        update={\n",
    "            \"messages\": [\n",
    "                HumanMessage(content=\"hello from unknown\", name=\"unknown\")\n",
    "            ]\n",
    "        },\n",
    "        goto=\"supervisor\",\n",
    "    )\n",
    "    def clothes(self,state:AgentState)-> Command[Literal[\"supervisor\"]]:\n",
    "        return Command(\n",
    "        update={\n",
    "            \"messages\": [\n",
    "               HumanMessage(content=\"hello from clothes\", name=\"clothes\")\n",
    "            ]\n",
    "        },\n",
    "        goto=\"supervisor\",\n",
    "    )\n",
    "    def faq(self,state:AgentState)-> Command[Literal[\"supervisor\"]]:\n",
    "        return Command(\n",
    "        update={\n",
    "            \"messages\": [\n",
    "               HumanMessage(content=\"hello from faq\", name=\"faq\")\n",
    "            ]\n",
    "        },\n",
    "        goto=\"supervisor\",\n",
    "    )"
   ]
  },
  {
   "cell_type": "code",
   "execution_count": 391,
   "metadata": {},
   "outputs": [],
   "source": [
    "from langgraph.graph import StateGraph,MessagesState,START,END\n",
    "from langgraph.graph.message import add_messages\n",
    "from typing import  Annotated,Literal\n",
    "from typing_extensions import TypedDict\n",
    "from pydantic import BaseModel\n",
    "from langchain.tools import tool\n",
    "from langchain_core.messages import SystemMessage,HumanMessage\n",
    "from langgraph.prebuilt import ToolNode\n",
    "from pydantic import BaseModel, Field\n",
    "from langchain_core.prompts import ChatPromptTemplate\n",
    "from langgraph.checkpoint.memory import MemorySaver\n",
    "\n",
    "class categories(BaseModel):\n",
    "    \"\"\"Identify the user categories\"\"\"\n",
    "    \n",
    "    size:str=Field(\n",
    "        description=\"if the user answered with his size, if not make it -1\"\n",
    "    )\n",
    "    color:str=Field(\n",
    "        description=\"if the user answer with his color, if not make it -1\"\n",
    "    )\n",
    "    price:str=Field(\n",
    "        description=\" if the user answer about specific price, if not make it -1 \"\n",
    "    )\n",
    "    \n",
    "\n",
    "class AgentState(TypedDict):\n",
    "    messages: Annotated[list, add_messages]\n",
    "    categories: Annotated[list, add_messages]\n",
    "\n",
    "class ClothesAgent():\n",
    "    def __init__(self,memory,llm):\n",
    "        self.llm=llm\n",
    "        super(ClothesAgent).__init__()\n",
    "        workflow = StateGraph(AgentState)\n",
    "        \n",
    "        workflow.add_node(\"ask_size\",self.ask_size)\n",
    "        workflow.add_node(\"identify_size\",self.identify_size)\n",
    "        \n",
    "        workflow.add_edge(START,\"ask_size\")\n",
    "        workflow.add_edge(\"ask_size\",'identify_size')\n",
    "        workflow.add_edge('identify_size',END)\n",
    "        \n",
    "        self.graph = workflow.compile(\n",
    "            interrupt_after=['ask_size','identify_size'],\n",
    "            checkpointer=memory\n",
    "            )\n",
    "    \n",
    "    def ask_size(self,state:AgentState):\n",
    "        message = state['messages'][-1]\n",
    "        \n",
    "        prompt = \"\"\"You are a shop customer service you want to know the user size \\n\n",
    "                    about the specific category he want \\n\n",
    "                    ask him politely about his size\\n\n",
    "                    \"\"\"\n",
    "        \n",
    "        grade_prompt = ChatPromptTemplate.from_messages(\n",
    "        [(\"system\", prompt), (\"human\", \"user message:\\n\\n {message}\")]\n",
    "        )\n",
    "        \n",
    "        evaluator = grade_prompt | self.llm\n",
    "        result = evaluator.invoke(\n",
    "            message\n",
    "        )\n",
    "        return {\"messages\" : result}\n",
    "    \n",
    "    def identify_size(self,state:AgentState):\n",
    "        structredllm = self.llm.with_structured_output(categories)\n",
    "        \n",
    "        message = state['messages'][-1]\n",
    "        prompt = \"\"\"You are a shop customer service you want to know the user size \\n\n",
    "                    based on the user answer \\n\n",
    "                    identify the user size if yes tell me the specific size if not return -1 \\n\n",
    "                    \"\"\"\n",
    "        \n",
    "        grade_prompt = ChatPromptTemplate.from_messages(\n",
    "        [(\"system\", prompt), (\"human\", \"user message:\\n\\n {message}\")]\n",
    "        )\n",
    "        evaluator = grade_prompt | structredllm\n",
    "        result = evaluator.invoke(\n",
    "            message\n",
    "        )\n",
    "        \n",
    "        return {'categories': result.size}"
   ]
  },
  {
   "cell_type": "code",
   "execution_count": 3,
   "metadata": {},
   "outputs": [],
   "source": [
    "from langgraph.graph import StateGraph,MessagesState,START,END\n",
    "from langgraph.graph.message import add_messages\n",
    "from typing import  Annotated,Literal\n",
    "from typing_extensions import TypedDict\n",
    "from pydantic import BaseModel\n",
    "from langchain.tools import tool\n",
    "from langchain_core.messages import SystemMessage,HumanMessage\n",
    "from langgraph.prebuilt import ToolNode\n",
    "from pydantic import BaseModel, Field\n",
    "from langchain_core.prompts import ChatPromptTemplate\n",
    "from langgraph.checkpoint.memory import MemorySaver\n",
    "import operator\n",
    "\n",
    "class user_intent(BaseModel):\n",
    "    \"\"\"Identify the user intent\"\"\"\n",
    "    \n",
    "    faq:str=Field(\n",
    "        description=\"if the user asked about the faq like the website policy or return days , 'yes' or 'no' \"\n",
    "    )\n",
    "    category:str=Field(\n",
    "        description=\"if the user asked about categories like clothes , 'yes' or 'no' \"\n",
    "    )\n",
    "    unknown:str=Field(\n",
    "        description=\" if the user didn't ask about any thing or you don't know his intent or what he want, 'yes' or 'no' \"\n",
    "    )\n",
    "\n",
    "class categories(BaseModel):\n",
    "    \"\"\"Identify the user categories\"\"\"\n",
    "    \n",
    "    size:str=Field(\n",
    "        description=\"if the user answered with his size, if not make it -1\"\n",
    "    )\n",
    "    color:str=Field(\n",
    "        description=\"if the user answer with his color, if not make it -1\"\n",
    "    )\n",
    "    price:str=Field(\n",
    "        description=\" if the user answer about specific price, if not make it -1 \"\n",
    "    )\n",
    "\n",
    "memory = MemorySaver()\n",
    "\n",
    "\n",
    "class AgentState(TypedDict):\n",
    "    messages: Annotated[list, add_messages]\n",
    "    categories: Annotated[dict[str,str],operator.__or__] = {}\n",
    "\n",
    "\n",
    "class MainAgent():\n",
    "    def __init__(self,memory,llm):\n",
    "        self.llm = llm\n",
    "        workflow = StateGraph(AgentState)\n",
    "        workflow.add_node(\"greeting\",self.greeting)\n",
    "        workflow.add_node(\"dummy\",self.dummy)\n",
    "        workflow.add_node(\"unknown\",self.unknown)\n",
    "        workflow.add_node(\"ask_size\",self.ask_size)\n",
    "        workflow.add_node(\"identify_size\",self.identify_size)\n",
    "        workflow.add_node(\"faq\",self.faq)\n",
    "        workflow.add_node(\"ask_color\",self.ask_color)\n",
    "        workflow.add_node(\"identify_color\",self.identify_color)\n",
    "        \n",
    "        \n",
    "        workflow.add_edge(START,'greeting')\n",
    "        workflow.add_edge('greeting','dummy')\n",
    "        workflow.add_edge(\"unknown\",'dummy')\n",
    "        \n",
    "        # workflow.add_edge(\"clothes\",\"ask_size\")\n",
    "        workflow.add_edge(\"ask_size\",'identify_size')\n",
    "        workflow.add_edge('identify_size','ask_color')\n",
    "        workflow.add_edge(\"ask_color\",'identify_color')\n",
    "        \n",
    "        workflow.add_edge(\"faq\",END)\n",
    "        \n",
    "        workflow.add_conditional_edges(\"dummy\",\n",
    "                                       self.user_intent,\n",
    "                                       {\n",
    "                                            \"category\": \"ask_size\",\n",
    "                                            \"faq\": \"faq\",\n",
    "                                            \"unk\": \"unknown\",\n",
    "                                        })\n",
    "        \n",
    "        self.graph = workflow.compile(\n",
    "            interrupt_after=['dummy','ask_size','ask_color','identify_color'],\n",
    "            checkpointer=memory\n",
    "            )\n",
    "        \n",
    "    def greeting(self,state:AgentState):\n",
    "        return {\"messages\":\"Hello how can i help you today ?\"}\n",
    "    \n",
    "    def user_intent(self,state:AgentState)-> Literal[\"category\", \"faq\", \"unk\"]:\n",
    "        structredllm = self.llm.with_structured_output(user_intent)\n",
    "        \n",
    "        message = state[\"messages\"][-1]\n",
    "        \n",
    "        prompt = \"\"\"You are a shop customer service that want to identify the user intent \\n\n",
    "                    check if the user asking about faq like website policy or return days \\n\n",
    "                    or if he ask about category like clothes  \\n\n",
    "                    or if he said an unknown something or general question\\n\n",
    "                    Provide a binary score 'yes' or 'no' to indicate the user intent\"\"\"\n",
    "        \n",
    "        grade_prompt = ChatPromptTemplate.from_messages(\n",
    "        [(\"system\", prompt), (\"human\", \"question:\\n\\n {question}\")]\n",
    "        )\n",
    "        \n",
    "        evaluator = grade_prompt | structredllm\n",
    "        result = evaluator.invoke(\n",
    "            message\n",
    "        )\n",
    "        \n",
    "        if result.category =='yes':\n",
    "            return 'category'\n",
    "        \n",
    "        elif result.faq =='yes':\n",
    "            return 'faq'\n",
    "        else:\n",
    "            return \"unk\"\n",
    "    \n",
    "    def unknown(self,state:AgentState):\n",
    "        message = state[\"messages\"][-1]\n",
    "        \n",
    "        prompt = \"\"\"You are a shop customer service you want to know the user intent \\n\n",
    "                    but the user was talking about unknown something \\n\n",
    "                    ask him politely what he want again\\n\n",
    "                    \"\"\"\n",
    "                    \n",
    "        grade_prompt = ChatPromptTemplate.from_messages(\n",
    "        [(\"system\", prompt), (\"human\", \"user message:\\n\\n {message}\")]\n",
    "        )\n",
    "        evaluator = grade_prompt | self.llm\n",
    "        result = evaluator.invoke(\n",
    "            message\n",
    "        )\n",
    "        \n",
    "        return {\"messages\":result}\n",
    "    \n",
    "    def dummy(self,state:AgentState):\n",
    "        return {'messages':state['messages'][-1]}\n",
    "    \n",
    "    def ask_size(self,state:AgentState):\n",
    "        message = state['messages'][-1]\n",
    "        \n",
    "        prompt = \"\"\"You are a shop customer service you want to know the user size \\n\n",
    "                    about the specific category he want \\n\n",
    "                    ask him politely about his size\\n\n",
    "                    \"\"\"\n",
    "        \n",
    "        grade_prompt = ChatPromptTemplate.from_messages(\n",
    "        [(\"system\", prompt), (\"human\", \"user message:\\n\\n {message}\")]\n",
    "        )\n",
    "        \n",
    "        evaluator = grade_prompt | self.llm\n",
    "        result = evaluator.invoke(\n",
    "            message\n",
    "        )\n",
    "        return {\"messages\" : result}\n",
    "    \n",
    "    \n",
    "    def identify_size(self,state:AgentState):\n",
    "        structredllm = self.llm.with_structured_output(categories)\n",
    "        \n",
    "        message = state['messages'][-1]\n",
    "        prompt = \"\"\"You are a shop customer service you want to know the user size \\n\n",
    "                    based on the user answer \\n\n",
    "                    identify the user size if yes tell me the specific size if not return -1 \\n\n",
    "                    \"\"\"\n",
    "        \n",
    "        grade_prompt = ChatPromptTemplate.from_messages(\n",
    "        [(\"system\", prompt), (\"human\", \"user message:\\n\\n {message}\")]\n",
    "        )\n",
    "        evaluator = grade_prompt | structredllm\n",
    "        result = evaluator.invoke(\n",
    "            message\n",
    "        )\n",
    "        \n",
    "        return {\"categories\":{'size':result.size}}\n",
    "    \n",
    "    def ask_color(self,state:AgentState):\n",
    "        message = state['messages'][-2]\n",
    "        \n",
    "        prompt = \"\"\"You are a shop customer service you want to know the user color \\n\n",
    "                    about the specific category he want \\n\n",
    "                    ask him politely about his color\\n\n",
    "                    \"\"\"\n",
    "        \n",
    "        grade_prompt = ChatPromptTemplate.from_messages(\n",
    "        [(\"system\", prompt), (\"human\", \"user message:\\n\\n {message}\")]\n",
    "        )\n",
    "        \n",
    "        evaluator = grade_prompt | self.llm\n",
    "        result = evaluator.invoke(\n",
    "            message\n",
    "        )\n",
    "        return {\"messages\" : result}\n",
    "    \n",
    "    def identify_color(self,state:AgentState):\n",
    "        structredllm = self.llm.with_structured_output(categories)\n",
    "        \n",
    "        message = state['messages'][-1]\n",
    "        prompt = \"\"\"You are a shop customer service you want to know the user color \\n\n",
    "                    based on the user answer \\n\n",
    "                    identify the user color if yes tell me the specific color if not return -1 \\n\n",
    "                    \"\"\"\n",
    "        \n",
    "        grade_prompt = ChatPromptTemplate.from_messages(\n",
    "        [(\"system\", prompt), (\"human\", \"user message:\\n\\n {message}\")]\n",
    "        )\n",
    "        evaluator = grade_prompt | structredllm\n",
    "        result = evaluator.invoke(\n",
    "            message\n",
    "        )\n",
    "        \n",
    "        return {\"categories\":{\"color\" : result.color}}\n",
    "    \n",
    "    def faq(self,state:AgentState):\n",
    "        return {'messages':\"hello from faq\"}\n",
    "        \n",
    "        "
   ]
  },
  {
   "cell_type": "code",
   "execution_count": 40,
   "metadata": {},
   "outputs": [],
   "source": [
    "# clothes_agent = ClothesAgent(memory=memory,llm=llm)\n",
    "agent = MainAgent(memory,llm)"
   ]
  },
  {
   "cell_type": "code",
   "execution_count": 41,
   "metadata": {},
   "outputs": [
    {
     "data": {
      "text/plain": [
       "Graph(nodes={'__start__': Node(id='__start__', name='__start__', data=<class 'langchain_core.utils.pydantic.LangGraphInput'>, metadata=None), 'greeting': Node(id='greeting', name='greeting', data=greeting(tags=None, recurse=True, func_accepts_config=False, func_accepts={'writer': False, 'store': False}), metadata=None), 'dummy': Node(id='dummy', name='dummy', data=dummy(tags=None, recurse=True, func_accepts_config=False, func_accepts={'writer': False, 'store': False}), metadata={'__interrupt': 'after'}), 'unknown': Node(id='unknown', name='unknown', data=unknown(tags=None, recurse=True, func_accepts_config=False, func_accepts={'writer': False, 'store': False}), metadata=None), 'ask_size': Node(id='ask_size', name='ask_size', data=ask_size(tags=None, recurse=True, func_accepts_config=False, func_accepts={'writer': False, 'store': False}), metadata={'__interrupt': 'after'}), 'identify_size': Node(id='identify_size', name='identify_size', data=identify_size(tags=None, recurse=True, func_accepts_config=False, func_accepts={'writer': False, 'store': False}), metadata=None), 'faq': Node(id='faq', name='faq', data=faq(tags=None, recurse=True, func_accepts_config=False, func_accepts={'writer': False, 'store': False}), metadata=None), 'ask_color': Node(id='ask_color', name='ask_color', data=ask_color(tags=None, recurse=True, func_accepts_config=False, func_accepts={'writer': False, 'store': False}), metadata={'__interrupt': 'after'}), 'identify_color': Node(id='identify_color', name='identify_color', data=identify_color(tags=None, recurse=True, func_accepts_config=False, func_accepts={'writer': False, 'store': False}), metadata={'__interrupt': 'after'}), '__end__': Node(id='__end__', name='__end__', data=<class 'langchain_core.utils.pydantic.LangGraphOutput'>, metadata=None)}, edges=[Edge(source='__start__', target='greeting', data=None, conditional=False), Edge(source='ask_color', target='identify_color', data=None, conditional=False), Edge(source='ask_size', target='identify_size', data=None, conditional=False), Edge(source='faq', target='__end__', data=None, conditional=False), Edge(source='greeting', target='dummy', data=None, conditional=False), Edge(source='identify_size', target='ask_color', data=None, conditional=False), Edge(source='unknown', target='dummy', data=None, conditional=False), Edge(source='dummy', target='ask_size', data='category', conditional=True), Edge(source='dummy', target='faq', data=None, conditional=True), Edge(source='dummy', target='unknown', data='unk', conditional=True)])"
      ]
     },
     "execution_count": 41,
     "metadata": {},
     "output_type": "execute_result"
    }
   ],
   "source": [
    "agent.graph.get_graph()"
   ]
  },
  {
   "cell_type": "code",
   "execution_count": 42,
   "metadata": {},
   "outputs": [
    {
     "data": {
      "image/jpeg": "[encoded data removed]",
      "text/plain": [
       "<IPython.core.display.Image object>"
      ]
     },
     "metadata": {},
     "output_type": "display_data"
    }
   ],
   "source": [
    "from IPython.display import Image,display\n",
    "display(Image(agent.graph.get_graph(xray=1).draw_mermaid_png()))"
   ]
  },
  {
   "cell_type": "code",
   "execution_count": 45,
   "metadata": {},
   "outputs": [],
   "source": [
    "config = {'configurable': {'thread_id' : 2}}\n",
    "current_values = agent.graph.get_state(config)"
   ]
  },
  {
   "cell_type": "code",
   "execution_count": 46,
   "metadata": {},
   "outputs": [
    {
     "data": {
      "text/plain": [
       "StateSnapshot(values={}, next=(), config={'configurable': {'thread_id': 2}}, metadata=None, created_at=None, parent_config=None, tasks=())"
      ]
     },
     "execution_count": 46,
     "metadata": {},
     "output_type": "execute_result"
    }
   ],
   "source": [
    "current_values"
   ]
  },
  {
   "cell_type": "code",
   "execution_count": null,
   "metadata": {},
   "outputs": [],
   "source": []
  },
  {
   "cell_type": "code",
   "execution_count": 19,
   "metadata": {},
   "outputs": [],
   "source": [
    "messages = [HumanMessage(content=\"Hello\")]\n",
    "result = agent.graph.invoke({'messages': messages}, {'configurable': {'thread_id' : 1}})"
   ]
  },
  {
   "cell_type": "code",
   "execution_count": 20,
   "metadata": {},
   "outputs": [
    {
     "data": {
      "text/plain": [
       "'Hello how can i help you today ?'"
      ]
     },
     "execution_count": 20,
     "metadata": {},
     "output_type": "execute_result"
    }
   ],
   "source": [
    "result['messages'][-1].content"
   ]
  },
  {
   "cell_type": "code",
   "execution_count": 21,
   "metadata": {},
   "outputs": [
    {
     "data": {
      "text/plain": [
       "('unknown',)"
      ]
     },
     "execution_count": 21,
     "metadata": {},
     "output_type": "execute_result"
    }
   ],
   "source": [
    "agent.graph.get_state({'configurable': {'thread_id' : 1}}).next"
   ]
  },
  {
   "cell_type": "code",
   "execution_count": 22,
   "metadata": {},
   "outputs": [],
   "source": [
    "current_values = agent.graph.get_state({'configurable': {'thread_id' : 1}})"
   ]
  },
  {
   "cell_type": "code",
   "execution_count": 23,
   "metadata": {},
   "outputs": [
    {
     "data": {
      "text/plain": [
       "HumanMessage(content='Hello how can i help you today ?', additional_kwargs={}, response_metadata={}, id='cd270ab8-620e-4482-b427-6097f6c36e17')"
      ]
     },
     "execution_count": 23,
     "metadata": {},
     "output_type": "execute_result"
    }
   ],
   "source": [
    "current_values.values['messages'][-1]"
   ]
  },
  {
   "cell_type": "code",
   "execution_count": 24,
   "metadata": {},
   "outputs": [
    {
     "data": {
      "text/plain": [
       "{'configurable': {'thread_id': 1,\n",
       "  'checkpoint_ns': '',\n",
       "  'checkpoint_id': '1efbc822-0798-6963-8009-84c147711f18'}}"
      ]
     },
     "execution_count": 24,
     "metadata": {},
     "output_type": "execute_result"
    }
   ],
   "source": [
    "_id = current_values.values['messages'][-1].id\n",
    "message = HumanMessage(content='I want to buy tshirt',id=_id)\n",
    "current_values.values['messages'][-1] = message\n",
    "agent.graph.update_state({'configurable': {'thread_id' : 1}} , current_values.values)"
   ]
  },
  {
   "cell_type": "code",
   "execution_count": 25,
   "metadata": {},
   "outputs": [
    {
     "data": {
      "text/plain": [
       "StateSnapshot(values={'messages': [HumanMessage(content='Hello', additional_kwargs={}, response_metadata={}, id='0d9e0b5a-a2ec-4951-a906-d05c650a79b8'), HumanMessage(content='I want to buy tshirt', additional_kwargs={}, response_metadata={}, id='af0e3556-a767-46e2-84b8-1273e862e67e'), AIMessage(content=\"That's great!  We have a wide selection of t-shirts. To help me find the perfect one for you, could you please tell me what size you wear?\\n\", additional_kwargs={}, response_metadata={'prompt_feedback': {'block_reason': 0, 'safety_ratings': []}, 'finish_reason': 'STOP', 'safety_ratings': []}, id='run-0978ac4c-6be2-41d9-b31e-656f31aed33b-0', usage_metadata={'input_tokens': 92, 'output_tokens': 37, 'total_tokens': 129, 'input_token_details': {'cache_read': 0}}), HumanMessage(content='Hello', additional_kwargs={}, response_metadata={}, id='75dbef87-e571-4191-ac31-c9f6e22553da'), HumanMessage(content='I want to buy tshirt', additional_kwargs={}, response_metadata={}, id='cd270ab8-620e-4482-b427-6097f6c36e17')], 'categories': {}}, next=('ask_size',), config={'configurable': {'thread_id': 1, 'checkpoint_ns': '', 'checkpoint_id': '1efbc822-0798-6963-8009-84c147711f18'}}, metadata={'source': 'update', 'writes': {'dummy': {'messages': [HumanMessage(content='Hello', additional_kwargs={}, response_metadata={}, id='0d9e0b5a-a2ec-4951-a906-d05c650a79b8'), HumanMessage(content='I want to buy tshirt', additional_kwargs={}, response_metadata={}, id='af0e3556-a767-46e2-84b8-1273e862e67e'), AIMessage(content=\"That's great!  We have a wide selection of t-shirts. To help me find the perfect one for you, could you please tell me what size you wear?\\n\", additional_kwargs={}, response_metadata={'prompt_feedback': {'block_reason': 0, 'safety_ratings': []}, 'finish_reason': 'STOP', 'safety_ratings': []}, id='run-0978ac4c-6be2-41d9-b31e-656f31aed33b-0', usage_metadata={'input_tokens': 92, 'output_tokens': 37, 'total_tokens': 129, 'input_token_details': {'cache_read': 0}}), HumanMessage(content='Hello', additional_kwargs={}, response_metadata={}, id='75dbef87-e571-4191-ac31-c9f6e22553da'), HumanMessage(content='I want to buy tshirt', additional_kwargs={}, response_metadata={}, id='cd270ab8-620e-4482-b427-6097f6c36e17')], 'categories': {}}}, 'thread_id': 1, 'step': 9, 'parents': {}}, created_at='2024-12-17T14:20:54.838066+00:00', parent_config={'configurable': {'thread_id': 1, 'checkpoint_ns': '', 'checkpoint_id': '1efbc821-dacd-6d21-8008-6af01bea8907'}}, tasks=(PregelTask(id='1b267cc3-efdc-4ef9-ddf5-7fc642400e0c', name='ask_size', path=('__pregel_pull', 'ask_size'), error=None, interrupts=(), state=None, result=None),))"
      ]
     },
     "execution_count": 25,
     "metadata": {},
     "output_type": "execute_result"
    }
   ],
   "source": [
    "agent.graph.get_state({'configurable': {'thread_id' : 1}})"
   ]
  },
  {
   "cell_type": "code",
   "execution_count": 26,
   "metadata": {},
   "outputs": [
    {
     "data": {
      "text/plain": [
       "('ask_size',)"
      ]
     },
     "execution_count": 26,
     "metadata": {},
     "output_type": "execute_result"
    }
   ],
   "source": [
    "agent.graph.get_state({'configurable': {'thread_id' : 1}}).next"
   ]
  },
  {
   "cell_type": "code",
   "execution_count": 27,
   "metadata": {},
   "outputs": [],
   "source": [
    "result = agent.graph.invoke(None, {'configurable': {'thread_id' : 1}})"
   ]
  },
  {
   "cell_type": "code",
   "execution_count": 29,
   "metadata": {},
   "outputs": [
    {
     "data": {
      "text/plain": [
       "AIMessage(content=\"That's great!  We have a wide selection of t-shirts. To help me find the perfect one for you, could you please tell me what size you wear?\\n\", additional_kwargs={}, response_metadata={'prompt_feedback': {'block_reason': 0, 'safety_ratings': []}, 'finish_reason': 'STOP', 'safety_ratings': []}, id='run-eb420dc7-ff28-42fc-83ab-ac8fa1f0b4d2-0', usage_metadata={'input_tokens': 91, 'output_tokens': 37, 'total_tokens': 128, 'input_token_details': {'cache_read': 0}})"
      ]
     },
     "execution_count": 29,
     "metadata": {},
     "output_type": "execute_result"
    }
   ],
   "source": [
    "result['messages'][-1]"
   ]
  },
  {
   "cell_type": "code",
   "execution_count": 15,
   "metadata": {},
   "outputs": [
    {
     "name": "stdout",
     "output_type": "stream",
     "text": [
      "{'messages': AIMessage(content=\"That's great!  We have a wide selection of t-shirts. To help me find the perfect one for you, could you please tell me what size you wear?\\n\", additional_kwargs={}, response_metadata={'prompt_feedback': {'block_reason': 0, 'safety_ratings': []}, 'finish_reason': 'STOP', 'safety_ratings': []}, id='run-0978ac4c-6be2-41d9-b31e-656f31aed33b-0', usage_metadata={'input_tokens': 92, 'output_tokens': 37, 'total_tokens': 129, 'input_token_details': {'cache_read': 0}})}\n",
      "()\n"
     ]
    }
   ],
   "source": [
    "for event in agent.graph.stream(None, {'configurable': {'thread_id' : 1}}):\n",
    "    for v in event.values():\n",
    "        print(v)"
   ]
  },
  {
   "cell_type": "code",
   "execution_count": 875,
   "metadata": {},
   "outputs": [
    {
     "data": {
      "text/plain": [
       "('identify_size',)"
      ]
     },
     "execution_count": 875,
     "metadata": {},
     "output_type": "execute_result"
    }
   ],
   "source": [
    "agent.graph.get_state({'configurable': {'thread_id' : 1}}).next"
   ]
  },
  {
   "cell_type": "code",
   "execution_count": 876,
   "metadata": {},
   "outputs": [],
   "source": [
    "current_values = agent.graph.get_state({'configurable': {'thread_id' : 1}})"
   ]
  },
  {
   "cell_type": "code",
   "execution_count": 877,
   "metadata": {},
   "outputs": [
    {
     "data": {
      "text/plain": [
       "{'configurable': {'thread_id': 1,\n",
       "  'checkpoint_ns': '',\n",
       "  'checkpoint_id': '1efbbcd7-9ad0-6287-8005-82fa1f637cfe'}}"
      ]
     },
     "execution_count": 877,
     "metadata": {},
     "output_type": "execute_result"
    }
   ],
   "source": [
    "_id = current_values.values['messages'][-1].id\n",
    "current_values.values['messages'][-1].content = \"my size is L\"\n",
    "agent.graph.update_state({'configurable': {'thread_id' : 1}} , current_values.values)"
   ]
  },
  {
   "cell_type": "code",
   "execution_count": 878,
   "metadata": {},
   "outputs": [
    {
     "data": {
      "text/plain": [
       "('identify_size',)"
      ]
     },
     "execution_count": 878,
     "metadata": {},
     "output_type": "execute_result"
    }
   ],
   "source": [
    "agent.graph.get_state({'configurable': {'thread_id' : 1}}).next"
   ]
  },
  {
   "cell_type": "code",
   "execution_count": 879,
   "metadata": {},
   "outputs": [
    {
     "name": "stdout",
     "output_type": "stream",
     "text": [
      "{'categories': {'size': 'L'}}\n",
      "{'messages': AIMessage(content=\"That's great! We have a wide variety of t-shirts.  To help me find the perfect one for you, could you tell me what color you're interested in?\\n\", additional_kwargs={}, response_metadata={'prompt_feedback': {'block_reason': 0, 'safety_ratings': []}, 'finish_reason': 'STOP', 'safety_ratings': []}, id='run-883ae7cb-1bd7-4c45-92e0-9a02a98bab07-0', usage_metadata={'input_tokens': 89, 'output_tokens': 39, 'total_tokens': 128, 'input_token_details': {'cache_read': 0}})}\n",
      "()\n"
     ]
    }
   ],
   "source": [
    "for event in agent.graph.stream(None, {'configurable': {'thread_id' : 1}}):\n",
    "    for v in event.values():\n",
    "        print(v)"
   ]
  },
  {
   "cell_type": "code",
   "execution_count": 880,
   "metadata": {},
   "outputs": [
    {
     "data": {
      "text/plain": [
       "('identify_color',)"
      ]
     },
     "execution_count": 880,
     "metadata": {},
     "output_type": "execute_result"
    }
   ],
   "source": [
    "agent.graph.get_state({'configurable': {'thread_id' : 1}}).next"
   ]
  },
  {
   "cell_type": "code",
   "execution_count": 881,
   "metadata": {},
   "outputs": [],
   "source": [
    "current_values = agent.graph.get_state({'configurable': {'thread_id' : 1}})"
   ]
  },
  {
   "cell_type": "code",
   "execution_count": 882,
   "metadata": {},
   "outputs": [
    {
     "data": {
      "text/plain": [
       "AIMessage(content=\"That's great! We have a wide variety of t-shirts.  To help me find the perfect one for you, could you tell me what color you're interested in?\\n\", additional_kwargs={}, response_metadata={'prompt_feedback': {'block_reason': 0, 'safety_ratings': []}, 'finish_reason': 'STOP', 'safety_ratings': []}, id='run-883ae7cb-1bd7-4c45-92e0-9a02a98bab07-0', usage_metadata={'input_tokens': 89, 'output_tokens': 39, 'total_tokens': 128, 'input_token_details': {'cache_read': 0}})"
      ]
     },
     "execution_count": 882,
     "metadata": {},
     "output_type": "execute_result"
    }
   ],
   "source": [
    "current_values.values['messages'][-1]"
   ]
  },
  {
   "cell_type": "code",
   "execution_count": 883,
   "metadata": {},
   "outputs": [
    {
     "data": {
      "text/plain": [
       "{'configurable': {'thread_id': 1,\n",
       "  'checkpoint_ns': '',\n",
       "  'checkpoint_id': '1efbbcd7-ea77-684b-8008-d3fd284f2a1a'}}"
      ]
     },
     "execution_count": 883,
     "metadata": {},
     "output_type": "execute_result"
    }
   ],
   "source": [
    "_id = current_values.values['messages'][-1].id\n",
    "current_values.values['messages'][-1].content = 'I want Red tshirts'\n",
    "agent.graph.update_state({'configurable': {'thread_id' : 1}} , current_values.values)"
   ]
  },
  {
   "cell_type": "code",
   "execution_count": 884,
   "metadata": {},
   "outputs": [
    {
     "data": {
      "text/plain": [
       "('identify_color',)"
      ]
     },
     "execution_count": 884,
     "metadata": {},
     "output_type": "execute_result"
    }
   ],
   "source": [
    "agent.graph.get_state({'configurable': {'thread_id' : 1}}).next"
   ]
  },
  {
   "cell_type": "code",
   "execution_count": 885,
   "metadata": {},
   "outputs": [
    {
     "name": "stdout",
     "output_type": "stream",
     "text": [
      "{'categories': {'color': 'Red'}}\n",
      "()\n"
     ]
    }
   ],
   "source": [
    "for event in agent.graph.stream(None, {'configurable': {'thread_id' : 1}}):\n",
    "    for v in event.values():\n",
    "        print(v)"
   ]
  },
  {
   "cell_type": "code",
   "execution_count": 886,
   "metadata": {},
   "outputs": [],
   "source": [
    "current_values = agent.graph.get_state({'configurable': {'thread_id' : 1}})"
   ]
  },
  {
   "cell_type": "code",
   "execution_count": 887,
   "metadata": {},
   "outputs": [
    {
     "data": {
      "text/plain": [
       "{'size': 'L', 'color': 'Red'}"
      ]
     },
     "execution_count": 887,
     "metadata": {},
     "output_type": "execute_result"
    }
   ],
   "source": [
    "current_values.values['categories']"
   ]
  },
  {
   "cell_type": "code",
   "execution_count": null,
   "metadata": {},
   "outputs": [],
   "source": []
  },
  {
   "cell_type": "code",
   "execution_count": null,
   "metadata": {},
   "outputs": [],
   "source": []
  },
  {
   "cell_type": "code",
   "execution_count": null,
   "metadata": {},
   "outputs": [],
   "source": []
  },
  {
   "cell_type": "code",
   "execution_count": null,
   "metadata": {},
   "outputs": [],
   "source": []
  },
  {
   "cell_type": "code",
   "execution_count": 67,
   "metadata": {},
   "outputs": [
    {
     "name": "stdout",
     "output_type": "stream",
     "text": [
      "{'greeting': {'messages': ['Hello how can i help you today ?']}}\n",
      "{'__interrupt__': ()}\n"
     ]
    }
   ],
   "source": [
    "for x in agent.graph.stream({'messages': ['i want to buy tshirts']},{'configurable': {'thread_id' : 1}}):\n",
    "            print(x)"
   ]
  },
  {
   "cell_type": "code",
   "execution_count": 68,
   "metadata": {},
   "outputs": [
    {
     "data": {
      "text/plain": [
       "('unknown',)"
      ]
     },
     "execution_count": 68,
     "metadata": {},
     "output_type": "execute_result"
    }
   ],
   "source": [
    "agent.graph.get_state({'configurable': {'thread_id' : 1}}).next"
   ]
  },
  {
   "cell_type": "code",
   "execution_count": 67,
   "metadata": {},
   "outputs": [],
   "source": [
    "config = agent.graph.get_state({'configurable': {'thread_id' : 1}}).values\n",
    "config['configurable']={'thread_id' : 1}\n",
    "config['messages']=5"
   ]
  },
  {
   "cell_type": "code",
   "execution_count": 68,
   "metadata": {},
   "outputs": [
    {
     "name": "stdout",
     "output_type": "stream",
     "text": [
      "{'messages': [HumanMessage(content='Hello', additional_kwargs={}, response_metadata={}, id='a983105e-9ced-4a9c-8f3c-4ea77b14ffdd'), HumanMessage(content='test', additional_kwargs={}, response_metadata={}, id='c97b6b07-4497-4cf3-83e6-8f33eaa8624b')]}\n",
      "{'messages': [HumanMessage(content='Hello', additional_kwargs={}, response_metadata={}, id='a983105e-9ced-4a9c-8f3c-4ea77b14ffdd'), HumanMessage(content='test', additional_kwargs={}, response_metadata={}, id='c97b6b07-4497-4cf3-83e6-8f33eaa8624b'), HumanMessage(content='Hello how can i help you today ?', additional_kwargs={}, response_metadata={}, id='2c563ab0-d32f-43eb-b257-c5578b3bd67c')]}\n"
     ]
    }
   ],
   "source": [
    "for x in agent.graph.stream(None,config=config,stream_mode='values'):\n",
    "            print(x)"
   ]
  },
  {
   "cell_type": "code",
   "execution_count": null,
   "metadata": {},
   "outputs": [],
   "source": [
    "from langgraph.graph import StateGraph,MessagesState,START,END\n",
    "from langgraph.graph.message import add_messages\n",
    "from langgraph.checkpoint.memory import MemorySaver\n",
    "from langgraph.prebuilt import ToolNode\n",
    "from typing import Annotated,Literal,TypedDict\n",
    "from langchain_core.tools import tool\n",
    "\n",
    "\n",
    "class AgentState(TypedDict):\n",
    "    messages: Annotated[list, add_messages]\n",
    "    order_confirmed:bool"
   ]
  },
  {
   "cell_type": "code",
   "execution_count": 201,
   "metadata": {},
   "outputs": [],
   "source": [
    "@tool\n",
    "def greet_user(username):\n",
    "    \"\"\"\n",
    "    use this tool to greet the user\n",
    "    \"\"\"\n",
    "    return f\"Hello {username}, How can i help you ?\""
   ]
  },
  {
   "cell_type": "code",
   "execution_count": 202,
   "metadata": {},
   "outputs": [],
   "source": [
    "tools = [greet_user]\n",
    "tool_node = ToolNode(tools)"
   ]
  },
  {
   "cell_type": "code",
   "execution_count": 203,
   "metadata": {},
   "outputs": [],
   "source": [
    "def chatbot(state:AgentState):\n",
    "    message = state['messages']\n",
    "    \n",
    "    return {\"messages\":llm.invoke(message)}"
   ]
  },
  {
   "cell_type": "code",
   "execution_count": 204,
   "metadata": {},
   "outputs": [],
   "source": [
    "memory = MemorySaver()"
   ]
  },
  {
   "cell_type": "code",
   "execution_count": 205,
   "metadata": {},
   "outputs": [],
   "source": [
    "workflow= StateGraph(AgentState)\n",
    "workflow.add_node('chatbot',chatbot)\n",
    "workflow.add_node('greet',tool_node)\n",
    "workflow.add_edge(START,'chatbot')\n",
    "workflow.add_edge('chatbot','greet')\n",
    "workflow.add_edge('greet','chatbot')\n",
    "workflow.add_edge('chatbot',END)\n",
    "app = workflow.compile(checkpointer=memory,interrupt_after=['greet'])"
   ]
  },
  {
   "cell_type": "code",
   "execution_count": 206,
   "metadata": {},
   "outputs": [
    {
     "data": {
      "image/jpeg": "[encoded data removed]",
      "text/plain": [
       "<IPython.core.display.Image object>"
      ]
     },
     "metadata": {},
     "output_type": "display_data"
    }
   ],
   "source": [
    "from IPython.display import Image,display\n",
    "display(Image(app.get_graph().draw_mermaid_png()))"
   ]
  },
  {
   "cell_type": "code",
   "execution_count": 207,
   "metadata": {},
   "outputs": [
    {
     "name": "stdout",
     "output_type": "stream",
     "text": [
      "================================\u001b[1m Human Message \u001b[0m=================================\n",
      "\n",
      "hello my name is mohamed can you help me ?\n",
      "==================================\u001b[1m Ai Message \u001b[0m==================================\n",
      "\n",
      "Hello Mohamed!  I'd be happy to help you.  Please tell me what you need assistance with.\n",
      "==================================\u001b[1m Ai Message \u001b[0m==================================\n",
      "\n",
      "Hello Mohamed!  I'd be happy to help you.  Please tell me what you need assistance with.\n"
     ]
    }
   ],
   "source": [
    "config = {\"configurable\": {\"thread_id\": \"1\"}}\n",
    "# The config is the **second positional argument** to stream() or invoke()!\n",
    "events = app.stream(\n",
    "    {\"messages\": \"hello my name is mohamed can you help me ?\"}, config, stream_mode=\"values\"\n",
    ")\n",
    "for event in events:\n",
    "    event['messages'][-1].pretty_print()"
   ]
  },
  {
   "cell_type": "code",
   "execution_count": 195,
   "metadata": {},
   "outputs": [
    {
     "name": "stdout",
     "output_type": "stream",
     "text": [
      "[HumanMessage(content='hello my name is samy can you help me ?', additional_kwargs={}, response_metadata={}, id='34cb482e-96b9-4a68-8ac0-2c48fdfc3dcd'), HumanMessage(content='hello my name is samy can you help me ?', additional_kwargs={}, response_metadata={}, id='15e639e7-b693-4f78-932b-685738885a3a')]\n",
      "[HumanMessage(content='hello my name is samy can you help me ?', additional_kwargs={}, response_metadata={}, id='34cb482e-96b9-4a68-8ac0-2c48fdfc3dcd'), HumanMessage(content='hello my name is samy can you help me ?', additional_kwargs={}, response_metadata={}, id='15e639e7-b693-4f78-932b-685738885a3a'), AIMessage(content=\"Hello Samy!  I'd love to help you.  Please tell me what you need assistance with.\\n\", additional_kwargs={}, response_metadata={'prompt_feedback': {'block_reason': 0, 'safety_ratings': []}, 'finish_reason': 'STOP', 'safety_ratings': []}, id='run-a528dcfa-ed62-45ef-8ef3-1142cb6cb3bc-0', usage_metadata={'input_tokens': 24, 'output_tokens': 24, 'total_tokens': 48, 'input_token_details': {'cache_read': 0}})]\n",
      "[HumanMessage(content='hello my name is samy can you help me ?', additional_kwargs={}, response_metadata={}, id='34cb482e-96b9-4a68-8ac0-2c48fdfc3dcd'), HumanMessage(content='hello my name is samy can you help me ?', additional_kwargs={}, response_metadata={}, id='15e639e7-b693-4f78-932b-685738885a3a'), AIMessage(content=\"Hello Samy!  I'd love to help you.  Please tell me what you need assistance with.\\n\", additional_kwargs={}, response_metadata={'prompt_feedback': {'block_reason': 0, 'safety_ratings': []}, 'finish_reason': 'STOP', 'safety_ratings': []}, id='run-a528dcfa-ed62-45ef-8ef3-1142cb6cb3bc-0', usage_metadata={'input_tokens': 24, 'output_tokens': 24, 'total_tokens': 48, 'input_token_details': {'cache_read': 0}})]\n"
     ]
    }
   ],
   "source": [
    "events = app.stream(\n",
    "    {\"messages\": \"hello my name is samy can you help me ?\"}, config, stream_mode=\"values\"\n",
    ")\n",
    "for event in events:\n",
    "    print(event['messages'])"
   ]
  },
  {
   "cell_type": "code",
   "execution_count": 183,
   "metadata": {},
   "outputs": [
    {
     "data": {
      "text/plain": [
       "('greet',)"
      ]
     },
     "execution_count": 183,
     "metadata": {},
     "output_type": "execute_result"
    }
   ],
   "source": [
    "app.get_state(config=config).next"
   ]
  },
  {
   "cell_type": "code",
   "execution_count": 170,
   "metadata": {},
   "outputs": [
    {
     "name": "stderr",
     "output_type": "stream",
     "text": [
      "Gemini produced an empty response. Continuing with empty message\n",
      "Feedback: \n"
     ]
    },
    {
     "name": "stdout",
     "output_type": "stream",
     "text": [
      "{'messages': AIMessage(content='', additional_kwargs={}, response_metadata={'prompt_feedback': {'block_reason': 0, 'safety_ratings': []}}, id='run-9ec62d5f-c2ab-4f1b-925b-d190c4e25870-0')}\n",
      "{'messages': []}\n",
      "()\n"
     ]
    }
   ],
   "source": [
    "for event in app.stream(None, config):\n",
    "    for v in event.values():\n",
    "        print(v)"
   ]
  },
  {
   "cell_type": "code",
   "execution_count": null,
   "metadata": {},
   "outputs": [],
   "source": []
  },
  {
   "cell_type": "code",
   "execution_count": 65,
   "metadata": {},
   "outputs": [],
   "source": [
    "from typing import Annotated\n",
    "\n",
    "from typing_extensions import TypedDict\n",
    "\n",
    "from langgraph.checkpoint.memory import MemorySaver\n",
    "from langgraph.graph import StateGraph, START\n",
    "from langgraph.graph.message import add_messages\n",
    "from langgraph.prebuilt import ToolNode, tools_condition\n",
    "\n",
    "\n",
    "class State(TypedDict):\n",
    "    messages: Annotated[list, add_messages]\n",
    "    # This flag is new\n",
    "    ask_human: bool"
   ]
  },
  {
   "cell_type": "code",
   "execution_count": 66,
   "metadata": {},
   "outputs": [],
   "source": [
    "from pydantic import BaseModel\n",
    "\n",
    "\n",
    "class RequestAssistance(BaseModel):\n",
    "    \"\"\"Escalate the conversation to an expert. Use this if you are unable to assist directly or if the user requires support beyond your permissions.\n",
    "\n",
    "    To use this function, relay the user's 'request' so the expert can provide the right guidance.\n",
    "    \"\"\"\n",
    "\n",
    "    request: str"
   ]
  },
  {
   "cell_type": "code",
   "execution_count": 67,
   "metadata": {},
   "outputs": [],
   "source": [
    "\n",
    "# We can bind the llm to a tool definition, a pydantic model, or a json schema\n",
    "llm_with_tools = llm.bind_tools([RequestAssistance])\n",
    "\n",
    "\n",
    "def chatbot(state: State):\n",
    "    response = llm_with_tools.invoke(state[\"messages\"])\n",
    "    ask_human = False\n",
    "    if (\n",
    "        response.tool_calls\n",
    "        and response.tool_calls[0][\"name\"] == RequestAssistance.__name__\n",
    "    ):\n",
    "        ask_human = True\n",
    "    return {\"messages\": [response], \"ask_human\": ask_human}"
   ]
  },
  {
   "cell_type": "code",
   "execution_count": 68,
   "metadata": {},
   "outputs": [
    {
     "data": {
      "text/plain": [
       "<langgraph.graph.state.StateGraph at 0x7faf71145e80>"
      ]
     },
     "execution_count": 68,
     "metadata": {},
     "output_type": "execute_result"
    }
   ],
   "source": [
    "graph_builder = StateGraph(State)\n",
    "\n",
    "graph_builder.add_node(\"chatbot\", chatbot)\n",
    "graph_builder.add_node(\"tools\", ToolNode(tools=[tool]))"
   ]
  },
  {
   "cell_type": "code",
   "execution_count": 69,
   "metadata": {},
   "outputs": [
    {
     "data": {
      "text/plain": [
       "<langgraph.graph.state.StateGraph at 0x7faf71145e80>"
      ]
     },
     "execution_count": 69,
     "metadata": {},
     "output_type": "execute_result"
    }
   ],
   "source": [
    "from langchain_core.messages import AIMessage, ToolMessage\n",
    "\n",
    "\n",
    "def create_response(response: str, ai_message: AIMessage):\n",
    "    return ToolMessage(\n",
    "        content=response,\n",
    "        tool_call_id=ai_message.tool_calls[0][\"id\"],\n",
    "    )\n",
    "\n",
    "\n",
    "def human_node(state: State):\n",
    "    new_messages = []\n",
    "    if not isinstance(state[\"messages\"][-1], ToolMessage):\n",
    "        # Typically, the user will have updated the state during the interrupt.\n",
    "        # If they choose not to, we will include a placeholder ToolMessage to\n",
    "        # let the LLM continue.\n",
    "        new_messages.append(\n",
    "            create_response(\"No response from human.\", state[\"messages\"][-1])\n",
    "        )\n",
    "    return {\n",
    "        # Append the new messages\n",
    "        \"messages\": new_messages,\n",
    "        # Unset the flag\n",
    "        \"ask_human\": False,\n",
    "    }\n",
    "\n",
    "\n",
    "graph_builder.add_node(\"human\", human_node)"
   ]
  },
  {
   "cell_type": "code",
   "execution_count": 70,
   "metadata": {},
   "outputs": [
    {
     "data": {
      "text/plain": [
       "<langgraph.graph.state.StateGraph at 0x7faf71145e80>"
      ]
     },
     "execution_count": 70,
     "metadata": {},
     "output_type": "execute_result"
    }
   ],
   "source": [
    "def select_next_node(state: State):\n",
    "    if state[\"ask_human\"]:\n",
    "        return \"human\"\n",
    "    # Otherwise, we can route as before\n",
    "    return tools_condition(state)\n",
    "\n",
    "\n",
    "graph_builder.add_conditional_edges(\n",
    "    \"chatbot\",\n",
    "    select_next_node,\n",
    "    {\"human\": \"human\", \"tools\": \"tools\", END: END},\n",
    ")"
   ]
  },
  {
   "cell_type": "code",
   "execution_count": 71,
   "metadata": {},
   "outputs": [],
   "source": [
    "# The rest is the same\n",
    "graph_builder.add_edge(\"tools\", \"chatbot\")\n",
    "graph_builder.add_edge(\"human\", \"chatbot\")\n",
    "graph_builder.add_edge(START, \"chatbot\")\n",
    "memory = MemorySaver()\n",
    "graph = graph_builder.compile(\n",
    "    checkpointer=memory,\n",
    "    # We interrupt before 'human' here instead.\n",
    "    interrupt_before=[\"human\"],\n",
    ")"
   ]
  },
  {
   "cell_type": "code",
   "execution_count": 72,
   "metadata": {},
   "outputs": [
    {
     "data": {
      "image/jpeg": "[encoded data removed]",
      "text/plain": [
       "<IPython.core.display.Image object>"
      ]
     },
     "metadata": {},
     "output_type": "display_data"
    }
   ],
   "source": [
    "from IPython.display import Image, display\n",
    "\n",
    "try:\n",
    "    display(Image(graph.get_graph().draw_mermaid_png()))\n",
    "except Exception:\n",
    "    # This requires some extra dependencies and is optional\n",
    "    pass"
   ]
  },
  {
   "cell_type": "code",
   "execution_count": 73,
   "metadata": {},
   "outputs": [
    {
     "name": "stdout",
     "output_type": "stream",
     "text": [
      "================================\u001b[1m Human Message \u001b[0m=================================\n",
      "\n",
      "I need some expert guidance for building this AI agent. Could you request assistance for me?\n",
      "==================================\u001b[1m Ai Message \u001b[0m==================================\n",
      "Tool Calls:\n",
      "  RequestAssistance (5909a449-aaf4-4203-9bca-a9ceddebe7a6)\n",
      " Call ID: 5909a449-aaf4-4203-9bca-a9ceddebe7a6\n",
      "  Args:\n",
      "    request: I need some expert guidance for building this AI agent.\n"
     ]
    }
   ],
   "source": [
    "user_input = \"I need some expert guidance for building this AI agent. Could you request assistance for me?\"\n",
    "config = {\"configurable\": {\"thread_id\": \"1\"}}\n",
    "# The config is the **second positional argument** to stream() or invoke()!\n",
    "events = graph.stream(\n",
    "    {\"messages\": [(\"user\", user_input)]}, config, stream_mode=\"values\"\n",
    ")\n",
    "for event in events:\n",
    "    if \"messages\" in event:\n",
    "        event[\"messages\"][-1].pretty_print()"
   ]
  },
  {
   "cell_type": "code",
   "execution_count": null,
   "metadata": {},
   "outputs": [],
   "source": []
  }
 ],
 "metadata": {
  "kernelspec": {
   "display_name": "slash",
   "language": "python",
   "name": "python3"
  },
  "language_info": {
   "codemirror_mode": {
    "name": "ipython",
    "version": 3
   },
   "file_extension": ".py",
   "mimetype": "text/x-python",
   "name": "python",
   "nbconvert_exporter": "python",
   "pygments_lexer": "ipython3",
   "version": "3.12.7"
  }
 },
 "nbformat": 4,
 "nbformat_minor": 2
}
